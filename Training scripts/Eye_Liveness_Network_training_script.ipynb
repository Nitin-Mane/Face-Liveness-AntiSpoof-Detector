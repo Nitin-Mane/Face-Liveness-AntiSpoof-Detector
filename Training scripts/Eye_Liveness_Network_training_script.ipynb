{
 "cells": [
  {
   "cell_type": "code",
   "execution_count": 15,
   "metadata": {
    "ExecuteTime": {
     "end_time": "2020-10-18T06:18:22.987333Z",
     "start_time": "2020-10-18T06:18:22.973396Z"
    }
   },
   "outputs": [],
   "source": [
    "import pandas as pd\n",
    "from sklearn.neighbors import KNeighborsClassifier\n",
    "from sklearn.model_selection import train_test_split\n",
    "from sklearn.metrics import confusion_matrix, classification_report\n",
    "import seaborn as sn\n",
    "\n",
    "%matplotlib inline"
   ]
  },
  {
   "cell_type": "code",
   "execution_count": 2,
   "metadata": {
    "ExecuteTime": {
     "end_time": "2020-10-18T06:16:41.357041Z",
     "start_time": "2020-10-18T06:16:41.331112Z"
    }
   },
   "outputs": [
    {
     "name": "stdout",
     "output_type": "stream",
     "text": [
      "(200, 21)\n"
     ]
    }
   ],
   "source": [
    "dataset = pd.read_csv('./eye_ratio_r_f.csv')\n",
    "print(dataset.shape)"
   ]
  },
  {
   "cell_type": "code",
   "execution_count": 3,
   "metadata": {
    "ExecuteTime": {
     "end_time": "2020-10-18T06:16:41.434833Z",
     "start_time": "2020-10-18T06:16:41.390956Z"
    }
   },
   "outputs": [
    {
     "data": {
      "text/html": [
       "<div>\n",
       "<style scoped>\n",
       "    .dataframe tbody tr th:only-of-type {\n",
       "        vertical-align: middle;\n",
       "    }\n",
       "\n",
       "    .dataframe tbody tr th {\n",
       "        vertical-align: top;\n",
       "    }\n",
       "\n",
       "    .dataframe thead th {\n",
       "        text-align: right;\n",
       "    }\n",
       "</style>\n",
       "<table border=\"1\" class=\"dataframe\">\n",
       "  <thead>\n",
       "    <tr style=\"text-align: right;\">\n",
       "      <th></th>\n",
       "      <th>L T</th>\n",
       "      <th>R T</th>\n",
       "      <th>L T-1</th>\n",
       "      <th>R T-1</th>\n",
       "      <th>L T-2</th>\n",
       "      <th>R T-2</th>\n",
       "      <th>L T-3</th>\n",
       "      <th>R T-3</th>\n",
       "      <th>L T-4</th>\n",
       "      <th>R T-4</th>\n",
       "      <th>...</th>\n",
       "      <th>R T-5</th>\n",
       "      <th>L T-6</th>\n",
       "      <th>R T-6</th>\n",
       "      <th>L T-7</th>\n",
       "      <th>R T-7</th>\n",
       "      <th>L T-8</th>\n",
       "      <th>R T-8</th>\n",
       "      <th>L T-9</th>\n",
       "      <th>R T-9</th>\n",
       "      <th>class</th>\n",
       "    </tr>\n",
       "  </thead>\n",
       "  <tbody>\n",
       "    <tr>\n",
       "      <th>0</th>\n",
       "      <td>0.910642</td>\n",
       "      <td>0.392232</td>\n",
       "      <td>0.894427</td>\n",
       "      <td>0.419918</td>\n",
       "      <td>1.000000</td>\n",
       "      <td>0.418681</td>\n",
       "      <td>0.857400</td>\n",
       "      <td>0.392232</td>\n",
       "      <td>0.857400</td>\n",
       "      <td>0.392232</td>\n",
       "      <td>...</td>\n",
       "      <td>0.372104</td>\n",
       "      <td>0.894427</td>\n",
       "      <td>0.421998</td>\n",
       "      <td>0.936200</td>\n",
       "      <td>0.392232</td>\n",
       "      <td>1.000000</td>\n",
       "      <td>0.386063</td>\n",
       "      <td>0.920869</td>\n",
       "      <td>0.367467</td>\n",
       "      <td>real</td>\n",
       "    </tr>\n",
       "    <tr>\n",
       "      <th>1</th>\n",
       "      <td>0.894427</td>\n",
       "      <td>0.419918</td>\n",
       "      <td>1.000000</td>\n",
       "      <td>0.418681</td>\n",
       "      <td>0.857400</td>\n",
       "      <td>0.392232</td>\n",
       "      <td>0.857400</td>\n",
       "      <td>0.392232</td>\n",
       "      <td>0.894427</td>\n",
       "      <td>0.372104</td>\n",
       "      <td>...</td>\n",
       "      <td>0.421998</td>\n",
       "      <td>0.936200</td>\n",
       "      <td>0.392232</td>\n",
       "      <td>1.000000</td>\n",
       "      <td>0.386063</td>\n",
       "      <td>0.920869</td>\n",
       "      <td>0.367467</td>\n",
       "      <td>0.925292</td>\n",
       "      <td>0.367467</td>\n",
       "      <td>real</td>\n",
       "    </tr>\n",
       "    <tr>\n",
       "      <th>2</th>\n",
       "      <td>1.000000</td>\n",
       "      <td>0.418681</td>\n",
       "      <td>0.857400</td>\n",
       "      <td>0.392232</td>\n",
       "      <td>0.857400</td>\n",
       "      <td>0.392232</td>\n",
       "      <td>0.894427</td>\n",
       "      <td>0.372104</td>\n",
       "      <td>0.894427</td>\n",
       "      <td>0.421998</td>\n",
       "      <td>...</td>\n",
       "      <td>0.392232</td>\n",
       "      <td>1.000000</td>\n",
       "      <td>0.386063</td>\n",
       "      <td>0.920869</td>\n",
       "      <td>0.367467</td>\n",
       "      <td>0.925292</td>\n",
       "      <td>0.367467</td>\n",
       "      <td>0.941534</td>\n",
       "      <td>0.414981</td>\n",
       "      <td>real</td>\n",
       "    </tr>\n",
       "    <tr>\n",
       "      <th>3</th>\n",
       "      <td>0.857400</td>\n",
       "      <td>0.392232</td>\n",
       "      <td>0.857400</td>\n",
       "      <td>0.392232</td>\n",
       "      <td>0.894427</td>\n",
       "      <td>0.372104</td>\n",
       "      <td>0.894427</td>\n",
       "      <td>0.421998</td>\n",
       "      <td>0.936200</td>\n",
       "      <td>0.392232</td>\n",
       "      <td>...</td>\n",
       "      <td>0.386063</td>\n",
       "      <td>0.920869</td>\n",
       "      <td>0.367467</td>\n",
       "      <td>0.925292</td>\n",
       "      <td>0.367467</td>\n",
       "      <td>0.941534</td>\n",
       "      <td>0.414981</td>\n",
       "      <td>0.956996</td>\n",
       "      <td>0.462819</td>\n",
       "      <td>real</td>\n",
       "    </tr>\n",
       "    <tr>\n",
       "      <th>4</th>\n",
       "      <td>0.857400</td>\n",
       "      <td>0.392232</td>\n",
       "      <td>0.894427</td>\n",
       "      <td>0.372104</td>\n",
       "      <td>0.894427</td>\n",
       "      <td>0.421998</td>\n",
       "      <td>0.936200</td>\n",
       "      <td>0.392232</td>\n",
       "      <td>1.000000</td>\n",
       "      <td>0.386063</td>\n",
       "      <td>...</td>\n",
       "      <td>0.367467</td>\n",
       "      <td>0.925292</td>\n",
       "      <td>0.367467</td>\n",
       "      <td>0.941534</td>\n",
       "      <td>0.414981</td>\n",
       "      <td>0.956996</td>\n",
       "      <td>0.462819</td>\n",
       "      <td>0.956996</td>\n",
       "      <td>0.462819</td>\n",
       "      <td>real</td>\n",
       "    </tr>\n",
       "    <tr>\n",
       "      <th>...</th>\n",
       "      <td>...</td>\n",
       "      <td>...</td>\n",
       "      <td>...</td>\n",
       "      <td>...</td>\n",
       "      <td>...</td>\n",
       "      <td>...</td>\n",
       "      <td>...</td>\n",
       "      <td>...</td>\n",
       "      <td>...</td>\n",
       "      <td>...</td>\n",
       "      <td>...</td>\n",
       "      <td>...</td>\n",
       "      <td>...</td>\n",
       "      <td>...</td>\n",
       "      <td>...</td>\n",
       "      <td>...</td>\n",
       "      <td>...</td>\n",
       "      <td>...</td>\n",
       "      <td>...</td>\n",
       "      <td>...</td>\n",
       "      <td>...</td>\n",
       "    </tr>\n",
       "    <tr>\n",
       "      <th>195</th>\n",
       "      <td>0.895533</td>\n",
       "      <td>0.556239</td>\n",
       "      <td>0.946594</td>\n",
       "      <td>0.548559</td>\n",
       "      <td>0.946594</td>\n",
       "      <td>0.548559</td>\n",
       "      <td>0.904989</td>\n",
       "      <td>0.552117</td>\n",
       "      <td>0.895045</td>\n",
       "      <td>0.582623</td>\n",
       "      <td>...</td>\n",
       "      <td>0.576764</td>\n",
       "      <td>0.946594</td>\n",
       "      <td>0.548559</td>\n",
       "      <td>0.895533</td>\n",
       "      <td>0.548559</td>\n",
       "      <td>0.904989</td>\n",
       "      <td>0.548559</td>\n",
       "      <td>0.895533</td>\n",
       "      <td>0.612579</td>\n",
       "      <td>fake</td>\n",
       "    </tr>\n",
       "    <tr>\n",
       "      <th>196</th>\n",
       "      <td>0.946594</td>\n",
       "      <td>0.548559</td>\n",
       "      <td>0.946594</td>\n",
       "      <td>0.548559</td>\n",
       "      <td>0.904989</td>\n",
       "      <td>0.552117</td>\n",
       "      <td>0.895045</td>\n",
       "      <td>0.582623</td>\n",
       "      <td>0.951315</td>\n",
       "      <td>0.576764</td>\n",
       "      <td>...</td>\n",
       "      <td>0.548559</td>\n",
       "      <td>0.895533</td>\n",
       "      <td>0.548559</td>\n",
       "      <td>0.904989</td>\n",
       "      <td>0.548559</td>\n",
       "      <td>0.895533</td>\n",
       "      <td>0.612579</td>\n",
       "      <td>0.895045</td>\n",
       "      <td>0.576764</td>\n",
       "      <td>fake</td>\n",
       "    </tr>\n",
       "    <tr>\n",
       "      <th>197</th>\n",
       "      <td>0.946594</td>\n",
       "      <td>0.548559</td>\n",
       "      <td>0.904989</td>\n",
       "      <td>0.552117</td>\n",
       "      <td>0.895045</td>\n",
       "      <td>0.582623</td>\n",
       "      <td>0.951315</td>\n",
       "      <td>0.576764</td>\n",
       "      <td>0.946594</td>\n",
       "      <td>0.548559</td>\n",
       "      <td>...</td>\n",
       "      <td>0.548559</td>\n",
       "      <td>0.904989</td>\n",
       "      <td>0.548559</td>\n",
       "      <td>0.895533</td>\n",
       "      <td>0.612579</td>\n",
       "      <td>0.895045</td>\n",
       "      <td>0.576764</td>\n",
       "      <td>0.861441</td>\n",
       "      <td>0.582623</td>\n",
       "      <td>fake</td>\n",
       "    </tr>\n",
       "    <tr>\n",
       "      <th>198</th>\n",
       "      <td>0.904989</td>\n",
       "      <td>0.552117</td>\n",
       "      <td>0.895045</td>\n",
       "      <td>0.582623</td>\n",
       "      <td>0.951315</td>\n",
       "      <td>0.576764</td>\n",
       "      <td>0.946594</td>\n",
       "      <td>0.548559</td>\n",
       "      <td>0.895533</td>\n",
       "      <td>0.548559</td>\n",
       "      <td>...</td>\n",
       "      <td>0.548559</td>\n",
       "      <td>0.895533</td>\n",
       "      <td>0.612579</td>\n",
       "      <td>0.895045</td>\n",
       "      <td>0.576764</td>\n",
       "      <td>0.861441</td>\n",
       "      <td>0.582623</td>\n",
       "      <td>0.946059</td>\n",
       "      <td>0.548559</td>\n",
       "      <td>fake</td>\n",
       "    </tr>\n",
       "    <tr>\n",
       "      <th>199</th>\n",
       "      <td>0.895045</td>\n",
       "      <td>0.582623</td>\n",
       "      <td>0.951315</td>\n",
       "      <td>0.576764</td>\n",
       "      <td>0.946594</td>\n",
       "      <td>0.548559</td>\n",
       "      <td>0.895533</td>\n",
       "      <td>0.548559</td>\n",
       "      <td>0.904989</td>\n",
       "      <td>0.548559</td>\n",
       "      <td>...</td>\n",
       "      <td>0.612579</td>\n",
       "      <td>0.895045</td>\n",
       "      <td>0.576764</td>\n",
       "      <td>0.861441</td>\n",
       "      <td>0.582623</td>\n",
       "      <td>0.946059</td>\n",
       "      <td>0.548559</td>\n",
       "      <td>0.946059</td>\n",
       "      <td>0.576764</td>\n",
       "      <td>fake</td>\n",
       "    </tr>\n",
       "  </tbody>\n",
       "</table>\n",
       "<p>200 rows × 21 columns</p>\n",
       "</div>"
      ],
      "text/plain": [
       "          L T       R T     L T-1     R T-1     L T-2     R T-2     L T-3  \\\n",
       "0    0.910642  0.392232  0.894427  0.419918  1.000000  0.418681  0.857400   \n",
       "1    0.894427  0.419918  1.000000  0.418681  0.857400  0.392232  0.857400   \n",
       "2    1.000000  0.418681  0.857400  0.392232  0.857400  0.392232  0.894427   \n",
       "3    0.857400  0.392232  0.857400  0.392232  0.894427  0.372104  0.894427   \n",
       "4    0.857400  0.392232  0.894427  0.372104  0.894427  0.421998  0.936200   \n",
       "..        ...       ...       ...       ...       ...       ...       ...   \n",
       "195  0.895533  0.556239  0.946594  0.548559  0.946594  0.548559  0.904989   \n",
       "196  0.946594  0.548559  0.946594  0.548559  0.904989  0.552117  0.895045   \n",
       "197  0.946594  0.548559  0.904989  0.552117  0.895045  0.582623  0.951315   \n",
       "198  0.904989  0.552117  0.895045  0.582623  0.951315  0.576764  0.946594   \n",
       "199  0.895045  0.582623  0.951315  0.576764  0.946594  0.548559  0.895533   \n",
       "\n",
       "        R T-3     L T-4     R T-4  ...     R T-5     L T-6     R T-6  \\\n",
       "0    0.392232  0.857400  0.392232  ...  0.372104  0.894427  0.421998   \n",
       "1    0.392232  0.894427  0.372104  ...  0.421998  0.936200  0.392232   \n",
       "2    0.372104  0.894427  0.421998  ...  0.392232  1.000000  0.386063   \n",
       "3    0.421998  0.936200  0.392232  ...  0.386063  0.920869  0.367467   \n",
       "4    0.392232  1.000000  0.386063  ...  0.367467  0.925292  0.367467   \n",
       "..        ...       ...       ...  ...       ...       ...       ...   \n",
       "195  0.552117  0.895045  0.582623  ...  0.576764  0.946594  0.548559   \n",
       "196  0.582623  0.951315  0.576764  ...  0.548559  0.895533  0.548559   \n",
       "197  0.576764  0.946594  0.548559  ...  0.548559  0.904989  0.548559   \n",
       "198  0.548559  0.895533  0.548559  ...  0.548559  0.895533  0.612579   \n",
       "199  0.548559  0.904989  0.548559  ...  0.612579  0.895045  0.576764   \n",
       "\n",
       "        L T-7     R T-7     L T-8     R T-8     L T-9     R T-9  class  \n",
       "0    0.936200  0.392232  1.000000  0.386063  0.920869  0.367467   real  \n",
       "1    1.000000  0.386063  0.920869  0.367467  0.925292  0.367467   real  \n",
       "2    0.920869  0.367467  0.925292  0.367467  0.941534  0.414981   real  \n",
       "3    0.925292  0.367467  0.941534  0.414981  0.956996  0.462819   real  \n",
       "4    0.941534  0.414981  0.956996  0.462819  0.956996  0.462819   real  \n",
       "..        ...       ...       ...       ...       ...       ...    ...  \n",
       "195  0.895533  0.548559  0.904989  0.548559  0.895533  0.612579   fake  \n",
       "196  0.904989  0.548559  0.895533  0.612579  0.895045  0.576764   fake  \n",
       "197  0.895533  0.612579  0.895045  0.576764  0.861441  0.582623   fake  \n",
       "198  0.895045  0.576764  0.861441  0.582623  0.946059  0.548559   fake  \n",
       "199  0.861441  0.582623  0.946059  0.548559  0.946059  0.576764   fake  \n",
       "\n",
       "[200 rows x 21 columns]"
      ]
     },
     "execution_count": 3,
     "metadata": {},
     "output_type": "execute_result"
    }
   ],
   "source": [
    "dataset"
   ]
  },
  {
   "cell_type": "code",
   "execution_count": 4,
   "metadata": {
    "ExecuteTime": {
     "end_time": "2020-10-18T06:16:42.651859Z",
     "start_time": "2020-10-18T06:16:42.636902Z"
    }
   },
   "outputs": [
    {
     "data": {
      "text/plain": [
       "['L T',\n",
       " 'R T',\n",
       " 'L T-1',\n",
       " 'R T-1',\n",
       " 'L T-2',\n",
       " 'R T-2',\n",
       " 'L T-3',\n",
       " 'R T-3',\n",
       " 'L T-4',\n",
       " 'R T-4',\n",
       " 'L T-5',\n",
       " 'R T-5',\n",
       " 'L T-6',\n",
       " 'R T-6',\n",
       " 'L T-7',\n",
       " 'R T-7',\n",
       " 'L T-8',\n",
       " 'R T-8',\n",
       " 'L T-9',\n",
       " 'R T-9']"
      ]
     },
     "execution_count": 4,
     "metadata": {},
     "output_type": "execute_result"
    }
   ],
   "source": [
    "features = list(dataset.columns)[:-1]\n",
    "features"
   ]
  },
  {
   "cell_type": "code",
   "execution_count": 5,
   "metadata": {
    "ExecuteTime": {
     "end_time": "2020-10-18T06:16:43.021139Z",
     "start_time": "2020-10-18T06:16:43.004608Z"
    }
   },
   "outputs": [
    {
     "data": {
      "text/plain": [
       "(200, 20)"
      ]
     },
     "execution_count": 5,
     "metadata": {},
     "output_type": "execute_result"
    }
   ],
   "source": [
    "dataset[features].shape"
   ]
  },
  {
   "cell_type": "code",
   "execution_count": 6,
   "metadata": {
    "ExecuteTime": {
     "end_time": "2020-10-18T06:16:43.442555Z",
     "start_time": "2020-10-18T06:16:43.423168Z"
    }
   },
   "outputs": [
    {
     "data": {
      "text/plain": [
       "(200, 1)"
      ]
     },
     "execution_count": 6,
     "metadata": {},
     "output_type": "execute_result"
    }
   ],
   "source": [
    "dataset[['class']].shape"
   ]
  },
  {
   "cell_type": "code",
   "execution_count": 7,
   "metadata": {
    "ExecuteTime": {
     "end_time": "2020-10-18T06:16:43.977564Z",
     "start_time": "2020-10-18T06:16:43.957520Z"
    }
   },
   "outputs": [],
   "source": [
    "X_train, X_val_test, y_train, y_val_test = train_test_split(dataset[features], dataset[['class']], random_state=0, train_size=0.7, shuffle=True)\n",
    "X_val, X_test, y_val, y_test = train_test_split(X_val_test, y_val_test, random_state=0, train_size=0.5, shuffle=True)"
   ]
  },
  {
   "cell_type": "code",
   "execution_count": 8,
   "metadata": {
    "ExecuteTime": {
     "end_time": "2020-10-18T06:16:44.565590Z",
     "start_time": "2020-10-18T06:16:44.549649Z"
    }
   },
   "outputs": [
    {
     "name": "stdout",
     "output_type": "stream",
     "text": [
      "X_train shape: (140, 20)\n",
      "y_train shape: (140, 1)\n",
      "X_val shape: (30, 20)\n",
      "y_val shape: (30, 1)\n",
      "X_test shape: (30, 20)\n",
      "y_test shape: (30, 1)\n"
     ]
    }
   ],
   "source": [
    "print(\"X_train shape: {}\".format(X_train.shape))\n",
    "print(\"y_train shape: {}\".format(y_train.shape))\n",
    "print(\"X_val shape: {}\".format(X_val.shape))\n",
    "print(\"y_val shape: {}\".format(y_val.shape))\n",
    "print(\"X_test shape: {}\".format(X_test.shape))\n",
    "print(\"y_test shape: {}\".format(y_test.shape))"
   ]
  },
  {
   "cell_type": "code",
   "execution_count": 9,
   "metadata": {
    "ExecuteTime": {
     "end_time": "2020-10-18T06:16:45.474452Z",
     "start_time": "2020-10-18T06:16:45.277299Z"
    }
   },
   "outputs": [
    {
     "name": "stderr",
     "output_type": "stream",
     "text": [
      "C:\\Users\\mirta\\Anaconda3\\envs\\Py_T\\lib\\site-packages\\ipykernel_launcher.py:10: DataConversionWarning: A column-vector y was passed when a 1d array was expected. Please change the shape of y to (n_samples, ), for example using ravel().\n",
      "  # Remove the CWD from sys.path while we load stuff.\n",
      "C:\\Users\\mirta\\Anaconda3\\envs\\Py_T\\lib\\site-packages\\ipykernel_launcher.py:10: DataConversionWarning: A column-vector y was passed when a 1d array was expected. Please change the shape of y to (n_samples, ), for example using ravel().\n",
      "  # Remove the CWD from sys.path while we load stuff.\n",
      "C:\\Users\\mirta\\Anaconda3\\envs\\Py_T\\lib\\site-packages\\ipykernel_launcher.py:10: DataConversionWarning: A column-vector y was passed when a 1d array was expected. Please change the shape of y to (n_samples, ), for example using ravel().\n",
      "  # Remove the CWD from sys.path while we load stuff.\n",
      "C:\\Users\\mirta\\Anaconda3\\envs\\Py_T\\lib\\site-packages\\ipykernel_launcher.py:10: DataConversionWarning: A column-vector y was passed when a 1d array was expected. Please change the shape of y to (n_samples, ), for example using ravel().\n",
      "  # Remove the CWD from sys.path while we load stuff.\n",
      "C:\\Users\\mirta\\Anaconda3\\envs\\Py_T\\lib\\site-packages\\ipykernel_launcher.py:10: DataConversionWarning: A column-vector y was passed when a 1d array was expected. Please change the shape of y to (n_samples, ), for example using ravel().\n",
      "  # Remove the CWD from sys.path while we load stuff.\n",
      "C:\\Users\\mirta\\Anaconda3\\envs\\Py_T\\lib\\site-packages\\ipykernel_launcher.py:10: DataConversionWarning: A column-vector y was passed when a 1d array was expected. Please change the shape of y to (n_samples, ), for example using ravel().\n",
      "  # Remove the CWD from sys.path while we load stuff.\n",
      "C:\\Users\\mirta\\Anaconda3\\envs\\Py_T\\lib\\site-packages\\ipykernel_launcher.py:10: DataConversionWarning: A column-vector y was passed when a 1d array was expected. Please change the shape of y to (n_samples, ), for example using ravel().\n",
      "  # Remove the CWD from sys.path while we load stuff.\n",
      "C:\\Users\\mirta\\Anaconda3\\envs\\Py_T\\lib\\site-packages\\ipykernel_launcher.py:10: DataConversionWarning: A column-vector y was passed when a 1d array was expected. Please change the shape of y to (n_samples, ), for example using ravel().\n",
      "  # Remove the CWD from sys.path while we load stuff.\n",
      "C:\\Users\\mirta\\Anaconda3\\envs\\Py_T\\lib\\site-packages\\ipykernel_launcher.py:10: DataConversionWarning: A column-vector y was passed when a 1d array was expected. Please change the shape of y to (n_samples, ), for example using ravel().\n",
      "  # Remove the CWD from sys.path while we load stuff.\n",
      "C:\\Users\\mirta\\Anaconda3\\envs\\Py_T\\lib\\site-packages\\ipykernel_launcher.py:10: DataConversionWarning: A column-vector y was passed when a 1d array was expected. Please change the shape of y to (n_samples, ), for example using ravel().\n",
      "  # Remove the CWD from sys.path while we load stuff.\n",
      "C:\\Users\\mirta\\Anaconda3\\envs\\Py_T\\lib\\site-packages\\ipykernel_launcher.py:10: DataConversionWarning: A column-vector y was passed when a 1d array was expected. Please change the shape of y to (n_samples, ), for example using ravel().\n",
      "  # Remove the CWD from sys.path while we load stuff.\n"
     ]
    },
    {
     "data": {
      "text/html": [
       "<div>\n",
       "<style scoped>\n",
       "    .dataframe tbody tr th:only-of-type {\n",
       "        vertical-align: middle;\n",
       "    }\n",
       "\n",
       "    .dataframe tbody tr th {\n",
       "        vertical-align: top;\n",
       "    }\n",
       "\n",
       "    .dataframe thead th {\n",
       "        text-align: right;\n",
       "    }\n",
       "</style>\n",
       "<table border=\"1\" class=\"dataframe\">\n",
       "  <thead>\n",
       "    <tr style=\"text-align: right;\">\n",
       "      <th></th>\n",
       "      <th>No. of neighbors</th>\n",
       "      <th>Train set score</th>\n",
       "      <th>Validation set score</th>\n",
       "    </tr>\n",
       "  </thead>\n",
       "  <tbody>\n",
       "    <tr>\n",
       "      <th>0</th>\n",
       "      <td>1</td>\n",
       "      <td>1.000</td>\n",
       "      <td>0.967</td>\n",
       "    </tr>\n",
       "    <tr>\n",
       "      <th>1</th>\n",
       "      <td>2</td>\n",
       "      <td>0.979</td>\n",
       "      <td>0.967</td>\n",
       "    </tr>\n",
       "    <tr>\n",
       "      <th>2</th>\n",
       "      <td>3</td>\n",
       "      <td>0.986</td>\n",
       "      <td>0.967</td>\n",
       "    </tr>\n",
       "    <tr>\n",
       "      <th>3</th>\n",
       "      <td>5</td>\n",
       "      <td>0.979</td>\n",
       "      <td>0.967</td>\n",
       "    </tr>\n",
       "    <tr>\n",
       "      <th>4</th>\n",
       "      <td>8</td>\n",
       "      <td>0.957</td>\n",
       "      <td>0.900</td>\n",
       "    </tr>\n",
       "    <tr>\n",
       "      <th>5</th>\n",
       "      <td>9</td>\n",
       "      <td>0.957</td>\n",
       "      <td>0.900</td>\n",
       "    </tr>\n",
       "    <tr>\n",
       "      <th>6</th>\n",
       "      <td>10</td>\n",
       "      <td>0.957</td>\n",
       "      <td>0.900</td>\n",
       "    </tr>\n",
       "    <tr>\n",
       "      <th>7</th>\n",
       "      <td>11</td>\n",
       "      <td>0.957</td>\n",
       "      <td>0.900</td>\n",
       "    </tr>\n",
       "    <tr>\n",
       "      <th>8</th>\n",
       "      <td>12</td>\n",
       "      <td>0.950</td>\n",
       "      <td>0.900</td>\n",
       "    </tr>\n",
       "    <tr>\n",
       "      <th>9</th>\n",
       "      <td>14</td>\n",
       "      <td>0.943</td>\n",
       "      <td>0.900</td>\n",
       "    </tr>\n",
       "    <tr>\n",
       "      <th>10</th>\n",
       "      <td>15</td>\n",
       "      <td>0.943</td>\n",
       "      <td>0.900</td>\n",
       "    </tr>\n",
       "  </tbody>\n",
       "</table>\n",
       "</div>"
      ],
      "text/plain": [
       "    No. of neighbors  Train set score  Validation set score\n",
       "0                  1            1.000                 0.967\n",
       "1                  2            0.979                 0.967\n",
       "2                  3            0.986                 0.967\n",
       "3                  5            0.979                 0.967\n",
       "4                  8            0.957                 0.900\n",
       "5                  9            0.957                 0.900\n",
       "6                 10            0.957                 0.900\n",
       "7                 11            0.957                 0.900\n",
       "8                 12            0.950                 0.900\n",
       "9                 14            0.943                 0.900\n",
       "10                15            0.943                 0.900"
      ]
     },
     "execution_count": 9,
     "metadata": {},
     "output_type": "execute_result"
    }
   ],
   "source": [
    "n_neighbors_params = [1,2,3,5,8, 9, 10, 11, 12, 14, 15]\n",
    "trails = []\n",
    "\n",
    "for n_neighbors in n_neighbors_params:\n",
    "    \n",
    "    # Initializing KNN\n",
    "    knn = KNeighborsClassifier(n_neighbors=n_neighbors)\n",
    "\n",
    "    # Fit to training data\n",
    "    knn.fit(X_train, y_train)\n",
    "\n",
    "    # Training set prediction\n",
    "    train_set_score = round(knn.score(X_train, y_train), 3)\n",
    "\n",
    "    # Validation set prediction\n",
    "    val_set_score = round(knn.score(X_val, y_val), 3)\n",
    "    \n",
    "    trails.append( {'No. of neighbors': n_neighbors,\n",
    "                    'Train set score' : train_set_score,\n",
    "                    'Validation set score':val_set_score} )\n",
    "    \n",
    "df = pd.DataFrame(trails)\n",
    "df"
   ]
  },
  {
   "cell_type": "code",
   "execution_count": 10,
   "metadata": {
    "ExecuteTime": {
     "end_time": "2020-10-18T06:16:46.167857Z",
     "start_time": "2020-10-18T06:16:46.140905Z"
    }
   },
   "outputs": [
    {
     "name": "stdout",
     "output_type": "stream",
     "text": [
      "n_neighors: 3\n",
      "Test set score: 0.933\n"
     ]
    },
    {
     "name": "stderr",
     "output_type": "stream",
     "text": [
      "C:\\Users\\mirta\\Anaconda3\\envs\\Py_T\\lib\\site-packages\\ipykernel_launcher.py:6: DataConversionWarning: A column-vector y was passed when a 1d array was expected. Please change the shape of y to (n_samples, ), for example using ravel().\n",
      "  \n"
     ]
    }
   ],
   "source": [
    "n_neighbors = 3\n",
    "# Initializing KNN\n",
    "knn = KNeighborsClassifier(n_neighbors = n_neighbors)\n",
    "\n",
    "# Fit to training data\n",
    "knn.fit(X_train, y_train)\n",
    "print(\"n_neighors: {}\".format(n_neighbors))\n",
    "\n",
    "# Test set prediction\n",
    "print(\"Test set score: {:.3f}\".format(knn.score(X_test, y_test)))"
   ]
  },
  {
   "cell_type": "code",
   "execution_count": 17,
   "metadata": {
    "ExecuteTime": {
     "end_time": "2020-10-18T06:18:47.311476Z",
     "start_time": "2020-10-18T06:18:47.102256Z"
    }
   },
   "outputs": [
    {
     "data": {
      "text/plain": [
       "[[Text(0, 0.5, 'Real'), Text(0, 1.5, 'Fake')],\n",
       " Text(33.0, 0.5, 'Actual label'),\n",
       " [Text(0.5, 0, 'Real'), Text(1.5, 0, 'Fake')],\n",
       " Text(0.5, 15.0, 'Predicted label')]"
      ]
     },
     "execution_count": 17,
     "metadata": {},
     "output_type": "execute_result"
    },
    {
     "data": {
      "image/png": "[encoded data removed]",
      "text/plain": [
       "<Figure size 432x288 with 2 Axes>"
      ]
     },
     "metadata": {
      "needs_background": "light"
     },
     "output_type": "display_data"
    }
   ],
   "source": [
    "y_test_pred = knn.predict(X_test)\n",
    "# print(y_test_pred, y_test)\n",
    "\n",
    "# Confusion Matrix\n",
    "confusion_matrix_test = confusion_matrix(y_test, y_test_pred, labels = None, sample_weight = None, normalize = None)\n",
    "\n",
    "# Confusion Matrix heatmap (0 : glaucoma, 1 : normal)\n",
    "heatmap_test = sn.heatmap(confusion_matrix_test, annot=True)\n",
    "heatmap_test.set(xlabel='Predicted label', ylabel='Actual label', xticklabels=['Real', 'Fake'], yticklabels=['Real', 'Fake'])"
   ]
  },
  {
   "cell_type": "code",
   "execution_count": 18,
   "metadata": {
    "ExecuteTime": {
     "end_time": "2020-10-18T06:19:20.328267Z",
     "start_time": "2020-10-18T06:19:20.316162Z"
    }
   },
   "outputs": [],
   "source": [
    "import pickle \n",
    "\n",
    "# knn = NearestNeighbors(10)\n",
    "# knn.fit(my_data)\n",
    "\n",
    "# Its important to use binary mode \n",
    "eye_ratio_model = open('eye_ratio_model', 'wb') \n",
    "\n",
    "# source, destination \n",
    "pickle.dump(knn, eye_ratio_model)                      "
   ]
  },
  {
   "cell_type": "code",
   "execution_count": 19,
   "metadata": {
    "ExecuteTime": {
     "end_time": "2020-10-18T06:19:22.193393Z",
     "start_time": "2020-10-18T06:19:22.027864Z"
    }
   },
   "outputs": [
    {
     "name": "stderr",
     "output_type": "stream",
     "text": [
      "C:\\Users\\mirta\\Anaconda3\\envs\\Py_T\\lib\\site-packages\\sklearn\\utils\\validation.py:72: DataConversionWarning: A column-vector y was passed when a 1d array was expected. Please change the shape of y to (n_samples, ), for example using ravel().\n",
      "  return f(**kwargs)\n",
      "C:\\Users\\mirta\\Anaconda3\\envs\\Py_T\\lib\\site-packages\\sklearn\\utils\\validation.py:72: DataConversionWarning: A column-vector y was passed when a 1d array was expected. Please change the shape of y to (n_samples, ), for example using ravel().\n",
      "  return f(**kwargs)\n",
      "C:\\Users\\mirta\\Anaconda3\\envs\\Py_T\\lib\\site-packages\\sklearn\\utils\\validation.py:72: DataConversionWarning: A column-vector y was passed when a 1d array was expected. Please change the shape of y to (n_samples, ), for example using ravel().\n",
      "  return f(**kwargs)\n",
      "C:\\Users\\mirta\\Anaconda3\\envs\\Py_T\\lib\\site-packages\\sklearn\\utils\\validation.py:72: DataConversionWarning: A column-vector y was passed when a 1d array was expected. Please change the shape of y to (n_samples, ), for example using ravel().\n",
      "  return f(**kwargs)\n",
      "C:\\Users\\mirta\\Anaconda3\\envs\\Py_T\\lib\\site-packages\\sklearn\\utils\\validation.py:72: DataConversionWarning: A column-vector y was passed when a 1d array was expected. Please change the shape of y to (n_samples, ), for example using ravel().\n",
      "  return f(**kwargs)\n",
      "C:\\Users\\mirta\\Anaconda3\\envs\\Py_T\\lib\\site-packages\\sklearn\\utils\\validation.py:72: DataConversionWarning: A column-vector y was passed when a 1d array was expected. Please change the shape of y to (n_samples, ), for example using ravel().\n",
      "  return f(**kwargs)\n",
      "C:\\Users\\mirta\\Anaconda3\\envs\\Py_T\\lib\\site-packages\\sklearn\\utils\\validation.py:72: DataConversionWarning: A column-vector y was passed when a 1d array was expected. Please change the shape of y to (n_samples, ), for example using ravel().\n",
      "  return f(**kwargs)\n",
      "C:\\Users\\mirta\\Anaconda3\\envs\\Py_T\\lib\\site-packages\\sklearn\\utils\\validation.py:72: DataConversionWarning: A column-vector y was passed when a 1d array was expected. Please change the shape of y to (n_samples, ), for example using ravel().\n",
      "  return f(**kwargs)\n"
     ]
    },
    {
     "data": {
      "text/html": [
       "<div>\n",
       "<style scoped>\n",
       "    .dataframe tbody tr th:only-of-type {\n",
       "        vertical-align: middle;\n",
       "    }\n",
       "\n",
       "    .dataframe tbody tr th {\n",
       "        vertical-align: top;\n",
       "    }\n",
       "\n",
       "    .dataframe thead th {\n",
       "        text-align: right;\n",
       "    }\n",
       "</style>\n",
       "<table border=\"1\" class=\"dataframe\">\n",
       "  <thead>\n",
       "    <tr style=\"text-align: right;\">\n",
       "      <th></th>\n",
       "      <th>C</th>\n",
       "      <th>max_iter</th>\n",
       "      <th>Train set score</th>\n",
       "      <th>Validation set score</th>\n",
       "    </tr>\n",
       "  </thead>\n",
       "  <tbody>\n",
       "    <tr>\n",
       "      <th>0</th>\n",
       "      <td>1</td>\n",
       "      <td>100</td>\n",
       "      <td>0.879</td>\n",
       "      <td>0.867</td>\n",
       "    </tr>\n",
       "    <tr>\n",
       "      <th>1</th>\n",
       "      <td>2</td>\n",
       "      <td>100</td>\n",
       "      <td>0.921</td>\n",
       "      <td>0.867</td>\n",
       "    </tr>\n",
       "    <tr>\n",
       "      <th>2</th>\n",
       "      <td>3</td>\n",
       "      <td>1000</td>\n",
       "      <td>0.929</td>\n",
       "      <td>0.900</td>\n",
       "    </tr>\n",
       "    <tr>\n",
       "      <th>3</th>\n",
       "      <td>5</td>\n",
       "      <td>1000</td>\n",
       "      <td>0.950</td>\n",
       "      <td>0.933</td>\n",
       "    </tr>\n",
       "    <tr>\n",
       "      <th>4</th>\n",
       "      <td>10</td>\n",
       "      <td>10000</td>\n",
       "      <td>0.971</td>\n",
       "      <td>0.933</td>\n",
       "    </tr>\n",
       "    <tr>\n",
       "      <th>5</th>\n",
       "      <td>15</td>\n",
       "      <td>10000</td>\n",
       "      <td>0.979</td>\n",
       "      <td>0.933</td>\n",
       "    </tr>\n",
       "    <tr>\n",
       "      <th>6</th>\n",
       "      <td>20</td>\n",
       "      <td>10000</td>\n",
       "      <td>0.986</td>\n",
       "      <td>0.933</td>\n",
       "    </tr>\n",
       "    <tr>\n",
       "      <th>7</th>\n",
       "      <td>30</td>\n",
       "      <td>10000</td>\n",
       "      <td>0.993</td>\n",
       "      <td>0.933</td>\n",
       "    </tr>\n",
       "  </tbody>\n",
       "</table>\n",
       "</div>"
      ],
      "text/plain": [
       "    C  max_iter  Train set score  Validation set score\n",
       "0   1       100            0.879                 0.867\n",
       "1   2       100            0.921                 0.867\n",
       "2   3      1000            0.929                 0.900\n",
       "3   5      1000            0.950                 0.933\n",
       "4  10     10000            0.971                 0.933\n",
       "5  15     10000            0.979                 0.933\n",
       "6  20     10000            0.986                 0.933\n",
       "7  30     10000            0.993                 0.933"
      ]
     },
     "execution_count": 19,
     "metadata": {},
     "output_type": "execute_result"
    }
   ],
   "source": [
    "# Logistic Regression\n",
    "from sklearn.linear_model import LogisticRegression\n",
    "C_params = [1,2,3,5,10,15,20,30]\n",
    "max_iter_params = [100,100,1000,1000,10000,10000,10000,10000]\n",
    "trails = []\n",
    "\n",
    "for C,max_iter in zip(C_params, max_iter_params):\n",
    "    \n",
    "    # Initializing Logistic Regression\n",
    "    logreg = LogisticRegression(C = C , max_iter = max_iter)\n",
    "\n",
    "    # Fit to training data\n",
    "    logreg.fit(X_train, y_train)\n",
    "\n",
    "    # Training set prediction\n",
    "    train_set_score = round(logreg.score(X_train, y_train), 3)\n",
    "\n",
    "    # Validation set prediction\n",
    "    val_set_score = round(logreg.score(X_val, y_val), 3)\n",
    "    \n",
    "    trails.append( {'C' : C,\n",
    "                    'max_iter' : max_iter,\n",
    "                    'Train set score' : train_set_score,\n",
    "                    'Validation set score':val_set_score} )\n",
    "    \n",
    "df = pd.DataFrame(trails)\n",
    "df"
   ]
  },
  {
   "cell_type": "code",
   "execution_count": 20,
   "metadata": {
    "ExecuteTime": {
     "end_time": "2020-10-18T06:19:22.740129Z",
     "start_time": "2020-10-18T06:19:22.701209Z"
    }
   },
   "outputs": [
    {
     "name": "stdout",
     "output_type": "stream",
     "text": [
      "Test set score: 0.900\n"
     ]
    },
    {
     "name": "stderr",
     "output_type": "stream",
     "text": [
      "C:\\Users\\mirta\\Anaconda3\\envs\\Py_T\\lib\\site-packages\\sklearn\\utils\\validation.py:72: DataConversionWarning: A column-vector y was passed when a 1d array was expected. Please change the shape of y to (n_samples, ), for example using ravel().\n",
      "  return f(**kwargs)\n"
     ]
    }
   ],
   "source": [
    "C = 4\n",
    "max_iter = 10000\n",
    "\n",
    "# Initializing Logistic Regression\n",
    "logreg = LogisticRegression(C = C , max_iter = max_iter)\n",
    "\n",
    "# Fit to training data\n",
    "logreg.fit(X_train, y_train)\n",
    "\n",
    "# Test set prediction\n",
    "print(\"Test set score: {:.3f}\".format(logreg.score(X_test, y_test)))"
   ]
  },
  {
   "cell_type": "code",
   "execution_count": 21,
   "metadata": {
    "ExecuteTime": {
     "end_time": "2020-10-18T06:19:23.436113Z",
     "start_time": "2020-10-18T06:19:23.253069Z"
    }
   },
   "outputs": [
    {
     "data": {
      "text/plain": [
       "[[Text(0, 0.5, 'Glaucoma'), Text(0, 1.5, 'Normal')],\n",
       " Text(33.0, 0.5, 'Actual label'),\n",
       " [Text(0.5, 0, 'Glaucoma'), Text(1.5, 0, 'Normal')],\n",
       " Text(0.5, 15.0, 'Predicted label')]"
      ]
     },
     "execution_count": 21,
     "metadata": {},
     "output_type": "execute_result"
    },
    {
     "data": {
      "image/png": "[encoded data removed]",
      "text/plain": [
       "<Figure size 432x288 with 2 Axes>"
      ]
     },
     "metadata": {
      "needs_background": "light"
     },
     "output_type": "display_data"
    }
   ],
   "source": [
    "y_test_pred = logreg.predict(X_test)\n",
    "\n",
    "# Confusion Matrix\n",
    "confusion_matrix_test = confusion_matrix(y_test, y_test_pred, labels = None, sample_weight = None, normalize = None)\n",
    "\n",
    "# Confusion Matrix heatmap (0 : glaucoma, 1 : normal)\n",
    "heatmap_test = sn.heatmap(confusion_matrix_test, annot=True)\n",
    "heatmap_test.set(xlabel='Predicted label', ylabel='Actual label', xticklabels=['Glaucoma', 'Normal'], yticklabels=['Glaucoma', 'Normal'])"
   ]
  },
  {
   "cell_type": "code",
   "execution_count": 22,
   "metadata": {
    "ExecuteTime": {
     "end_time": "2020-10-18T06:19:24.049902Z",
     "start_time": "2020-10-18T06:19:23.950166Z"
    }
   },
   "outputs": [
    {
     "data": {
      "text/html": [
       "<div>\n",
       "<style scoped>\n",
       "    .dataframe tbody tr th:only-of-type {\n",
       "        vertical-align: middle;\n",
       "    }\n",
       "\n",
       "    .dataframe tbody tr th {\n",
       "        vertical-align: top;\n",
       "    }\n",
       "\n",
       "    .dataframe thead th {\n",
       "        text-align: right;\n",
       "    }\n",
       "</style>\n",
       "<table border=\"1\" class=\"dataframe\">\n",
       "  <thead>\n",
       "    <tr style=\"text-align: right;\">\n",
       "      <th></th>\n",
       "      <th>max_depth</th>\n",
       "      <th>Train set score</th>\n",
       "      <th>Validation set score</th>\n",
       "    </tr>\n",
       "  </thead>\n",
       "  <tbody>\n",
       "    <tr>\n",
       "      <th>0</th>\n",
       "      <td>1</td>\n",
       "      <td>0.893</td>\n",
       "      <td>0.767</td>\n",
       "    </tr>\n",
       "    <tr>\n",
       "      <th>1</th>\n",
       "      <td>2</td>\n",
       "      <td>0.964</td>\n",
       "      <td>0.867</td>\n",
       "    </tr>\n",
       "    <tr>\n",
       "      <th>2</th>\n",
       "      <td>3</td>\n",
       "      <td>1.000</td>\n",
       "      <td>0.867</td>\n",
       "    </tr>\n",
       "    <tr>\n",
       "      <th>3</th>\n",
       "      <td>5</td>\n",
       "      <td>1.000</td>\n",
       "      <td>0.867</td>\n",
       "    </tr>\n",
       "    <tr>\n",
       "      <th>4</th>\n",
       "      <td>10</td>\n",
       "      <td>1.000</td>\n",
       "      <td>0.867</td>\n",
       "    </tr>\n",
       "    <tr>\n",
       "      <th>5</th>\n",
       "      <td>15</td>\n",
       "      <td>1.000</td>\n",
       "      <td>0.867</td>\n",
       "    </tr>\n",
       "    <tr>\n",
       "      <th>6</th>\n",
       "      <td>20</td>\n",
       "      <td>1.000</td>\n",
       "      <td>0.867</td>\n",
       "    </tr>\n",
       "    <tr>\n",
       "      <th>7</th>\n",
       "      <td>30</td>\n",
       "      <td>1.000</td>\n",
       "      <td>0.867</td>\n",
       "    </tr>\n",
       "  </tbody>\n",
       "</table>\n",
       "</div>"
      ],
      "text/plain": [
       "   max_depth  Train set score  Validation set score\n",
       "0          1            0.893                 0.767\n",
       "1          2            0.964                 0.867\n",
       "2          3            1.000                 0.867\n",
       "3          5            1.000                 0.867\n",
       "4         10            1.000                 0.867\n",
       "5         15            1.000                 0.867\n",
       "6         20            1.000                 0.867\n",
       "7         30            1.000                 0.867"
      ]
     },
     "execution_count": 22,
     "metadata": {},
     "output_type": "execute_result"
    }
   ],
   "source": [
    "# Decision Tree\n",
    "from sklearn.tree import DecisionTreeClassifier\n",
    "\n",
    "max_depth_param = [1,2,3,5,10,15,20,30]\n",
    "trails = []\n",
    "\n",
    "for max_depth in max_depth_param:\n",
    "    \n",
    "    # Initializing Logistic Regression\n",
    "    tree = DecisionTreeClassifier(max_depth = max_depth, random_state=0)\n",
    "\n",
    "    # Fit to training data\n",
    "    tree.fit(X_train, y_train)\n",
    "\n",
    "    # Training set prediction\n",
    "    train_set_score = round(tree.score(X_train, y_train), 3)\n",
    "\n",
    "    # Validation set prediction\n",
    "    val_set_score = round(tree.score(X_val, y_val), 3)\n",
    "    \n",
    "    trails.append( {'max_depth' : max_depth,\n",
    "                    'Train set score' : train_set_score,\n",
    "                    'Validation set score':val_set_score} )\n",
    "    \n",
    "df = pd.DataFrame(trails)\n",
    "df"
   ]
  },
  {
   "cell_type": "code",
   "execution_count": 23,
   "metadata": {
    "ExecuteTime": {
     "end_time": "2020-10-18T06:19:24.316699Z",
     "start_time": "2020-10-18T06:19:24.292738Z"
    }
   },
   "outputs": [
    {
     "name": "stdout",
     "output_type": "stream",
     "text": [
      "Max depth: 2  Test set score: 0.867\n"
     ]
    }
   ],
   "source": [
    "max_depth = 2\n",
    "# Initializing Logistic Regression\n",
    "tree = DecisionTreeClassifier(max_depth = max_depth)\n",
    "\n",
    "# Fit to training data\n",
    "tree.fit(X_train, y_train)\n",
    "\n",
    "# Test set prediction\n",
    "print('Max depth:', max_depth, \" Test set score: {:.3f}\".format(tree.score(X_test, y_test)))"
   ]
  },
  {
   "cell_type": "code",
   "execution_count": null,
   "metadata": {},
   "outputs": [],
   "source": []
  }
 ],
 "metadata": {
  "kernelspec": {
   "display_name": "Py_T",
   "language": "python",
   "name": "py_t"
  },
  "language_info": {
   "codemirror_mode": {
    "name": "ipython",
    "version": 3
   },
   "file_extension": ".py",
   "mimetype": "text/x-python",
   "name": "python",
   "nbconvert_exporter": "python",
   "pygments_lexer": "ipython3",
   "version": "3.7.6"
  },
  "varInspector": {
   "cols": {
    "lenName": 16,
    "lenType": 16,
    "lenVar": 40
   },
   "kernels_config": {
    "python": {
     "delete_cmd_postfix": "",
     "delete_cmd_prefix": "del ",
     "library": "var_list.py",
     "varRefreshCmd": "print(var_dic_list())"
    },
    "r": {
     "delete_cmd_postfix": ") ",
     "delete_cmd_prefix": "rm(",
     "library": "var_list.r",
     "varRefreshCmd": "cat(var_dic_list()) "
    }
   },
   "types_to_exclude": [
    "module",
    "function",
    "builtin_function_or_method",
    "instance",
    "_Feature"
   ],
   "window_display": false
  }
 },
 "nbformat": 4,
 "nbformat_minor": 4
}
